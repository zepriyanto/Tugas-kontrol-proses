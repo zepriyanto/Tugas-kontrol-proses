{
  "nbformat": 4,
  "nbformat_minor": 0,
  "metadata": {
    "colab": {
      "name": "3_2_Tugas_Perulangan_11190445.ipynb",
      "provenance": [],
      "collapsed_sections": []
    },
    "kernelspec": {
      "display_name": "Python 3",
      "language": "python",
      "name": "python3"
    },
    "language_info": {
      "codemirror_mode": {
        "name": "ipython",
        "version": 3
      },
      "file_extension": ".py",
      "mimetype": "text/x-python",
      "name": "python",
      "nbconvert_exporter": "python",
      "pygments_lexer": "ipython3",
      "version": "3.8.3"
    }
  },
  "cells": [
    {
      "cell_type": "code",
      "metadata": {
        "id": "fkV8YRAQlm-C"
      },
      "source": [
        ""
      ],
      "execution_count": null,
      "outputs": []
    },
    {
      "cell_type": "markdown",
      "metadata": {
        "id": "lnkJ-zBHl3jp"
      },
      "source": [
        "## Access Element\n",
        "Keunikan lain dari looping dengan python adalah selain bahasa yang mudah dimengerti dalam looping, kita juga bisa mengakses elemen yang terdapat pada sebuah list. Berikut ini contohnya :\n",
        "``` javascript\n",
        "#Tugas 3.2.1\n",
        "count=[1,2,3,4,5] #elemen list\n",
        "\n",
        "for number in count: #looping untuk menampilkan semua elemen pada count\n",
        "    print(\"Ini adalah element count : \", number) #menampilkan elemen list pada count\n",
        "```\n",
        "Implekementasikan kode diatas, ketikan pada code cell di bawah ini, berikan penjelasan terkait kode diatas"
      ]
    },
    {
      "cell_type": "code",
      "metadata": {
        "id": "xYjQqqNLm-dB",
        "outputId": "99c24a09-9ccc-4f41-b79d-40c75e8eb617"
      },
      "source": [
        "# Jawaban Tugas 3.2.1\n",
        "count=[1,2,3,4,5] #elemen list\n",
        "\n",
        "for number in count: #looping untuk menampilkan semua elemen pada count\n",
        "    print(\"Ini adalah element count : \", number) #menampilkan elemen list pada count"
      ],
      "execution_count": null,
      "outputs": [
        {
          "output_type": "stream",
          "text": [
            "Ini adalah element count :  1\n",
            "Ini adalah element count :  2\n",
            "Ini adalah element count :  3\n",
            "Ini adalah element count :  4\n",
            "Ini adalah element count :  5\n"
          ],
          "name": "stdout"
        }
      ]
    },
    {
      "cell_type": "markdown",
      "metadata": {
        "id": "figDWKAcnZRA"
      },
      "source": [
        "## Tugas Praktek 3.2.2\n",
        "1. Buatlah sebuah program yang bisa mengeluarkan angka 1 sampai 10.\n",
        "1. Buatlah sebuah program yang bisa mengeluarkan angka -20 sampai -50.\n",
        "3. Tampilan akan menunjukan \"Angka ganjil 1\" untuk angka ganjil dan \"Angka genap 2\" untuk angka genap. (Menggunakan looping for)\n",
        "\n",
        "**Note:** Kode dasar sudah disertakan, Anda cukup mengganti tanda # dengan nilai-nilai yang sesuai."
      ]
    },
    {
      "cell_type": "code",
      "metadata": {
        "id": "MElhruOTntzZ",
        "outputId": "570df2a7-1bc5-478b-efb5-b695f726fcee"
      },
      "source": [
        "#Jawaban Tugas 3.2.1.1\n",
        "angka = 1\n",
        "while angka < 11:\n",
        "    print(angka)\n",
        "    angka += 1 "
      ],
      "execution_count": null,
      "outputs": [
        {
          "output_type": "stream",
          "text": [
            "1\n",
            "2\n",
            "3\n",
            "4\n",
            "5\n",
            "6\n",
            "7\n",
            "8\n",
            "9\n",
            "10\n"
          ],
          "name": "stdout"
        }
      ]
    },
    {
      "cell_type": "code",
      "metadata": {
        "id": "NFtMjrQznuF2",
        "outputId": "542a852d-4d04-4d49-b3cc-b2751c1cc528"
      },
      "source": [
        "#Jawaban Tugas 3.2.1.2\n",
        "i = -50\n",
        "while i <= -20:\n",
        "        print(i)\n",
        "        i += 1"
      ],
      "execution_count": null,
      "outputs": [
        {
          "output_type": "stream",
          "text": [
            "-50\n",
            "-49\n",
            "-48\n",
            "-47\n",
            "-46\n",
            "-45\n",
            "-44\n",
            "-43\n",
            "-42\n",
            "-41\n",
            "-40\n",
            "-39\n",
            "-38\n",
            "-37\n",
            "-36\n",
            "-35\n",
            "-34\n",
            "-33\n",
            "-32\n",
            "-31\n",
            "-30\n",
            "-29\n",
            "-28\n",
            "-27\n",
            "-26\n",
            "-25\n",
            "-24\n",
            "-23\n",
            "-22\n",
            "-21\n",
            "-20\n"
          ],
          "name": "stdout"
        }
      ]
    },
    {
      "cell_type": "code",
      "metadata": {
        "id": "xpGigMPBpBy7",
        "outputId": "60bba2e8-07a5-4119-de93-53fba0f9f1ed",
        "colab": {
          "base_uri": "https://localhost:8080/"
        }
      },
      "source": [
        "#Jawaban Tugas 3.2.1.3\n",
        "n = int(input(\"masukan angka:\"))\n",
        "for i in range (1,n+1):\n",
        "    if i%2==0 :\n",
        "        print (\"Genap 2\")\n",
        "    else:\n",
        "        print(\"Ganjil 1 \")\n"
      ],
      "execution_count": 1,
      "outputs": [
        {
          "output_type": "stream",
          "text": [
            "masukan angka:1\n",
            "Ganjil 1 \n"
          ],
          "name": "stdout"
        }
      ]
    },
    {
      "cell_type": "code",
      "metadata": {
        "id": "mcR8o9w5FCpY"
      },
      "source": [
        ""
      ],
      "execution_count": null,
      "outputs": []
    }
  ]
}