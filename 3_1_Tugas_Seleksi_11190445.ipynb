{
  "nbformat": 4,
  "nbformat_minor": 0,
  "metadata": {
    "colab": {
      "name": "3_1_Tugas_Seleksi_11190445.ipynb",
      "provenance": [],
      "collapsed_sections": []
    },
    "kernelspec": {
      "display_name": "Python 3",
      "language": "python",
      "name": "python3"
    },
    "language_info": {
      "codemirror_mode": {
        "name": "ipython",
        "version": 3
      },
      "file_extension": ".py",
      "mimetype": "text/x-python",
      "name": "python",
      "nbconvert_exporter": "python",
      "pygments_lexer": "ipython3",
      "version": "3.8.3"
    }
  },
  "cells": [
    {
      "cell_type": "code",
      "metadata": {
        "id": "r3Zdz7GxjwEB"
      },
      "source": [
        ""
      ],
      "execution_count": null,
      "outputs": []
    },
    {
      "cell_type": "markdown",
      "metadata": {
        "id": "Sh1Z3vgEka_O"
      },
      "source": [
        "##3.1. Tugas:\n",
        "Berikut ini adalah psudo code  untuk melakukan pengecekan bertingkat\n",
        "``` javascript\n",
        "i <= 2\n",
        "IF i < 7 THEN\n",
        "\tCETAK \"Nilai i kurang dari 7\"\n",
        "\tIF i < 3 THEN\n",
        "\t   CETAK \"Nilai i kurang dari 7 dan kurang dari 3\"\n",
        "\tELSE\n",
        "\t\tCETAK \"Nilai i kurang dari 7 tapi kurang dari 3\"\n",
        "\n",
        "```\n",
        "Implekementasikan kode diatas dalam kode python. Ketikan code cell di bawah ini pada editor:"
      ]
    },
    {
      "cell_type": "code",
      "metadata": {
        "id": "OV-NfRKHk0Vy",
        "outputId": "5878f1ac-0b51-4433-8f4a-609cbecbb847"
      },
      "source": [
        "##Jawaban Tugas 3.1\n",
        "i=2\n",
        "if i<7 :\n",
        "    print(\"Nilai i kurang dari 7\")\n",
        "    if i<3 :\n",
        "        print(\"Nilai i kurang dari 7 dan kurang dari 3\")\n",
        "    else :\n",
        "        print(\"Nilai i kurang dari 7 tapi kurang dari 3\")"
      ],
      "execution_count": null,
      "outputs": [
        {
          "output_type": "stream",
          "text": [
            "Nilai i kurang dari 7\n",
            "Nilai i kurang dari 7 dan kurang dari 3\n"
          ],
          "name": "stdout"
        }
      ]
    },
    {
      "cell_type": "code",
      "metadata": {
        "id": "2YfG0kxuEu5T"
      },
      "source": [
        ""
      ],
      "execution_count": null,
      "outputs": []
    }
  ]
}